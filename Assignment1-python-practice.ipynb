{
 "cells": [
  {
   "cell_type": "markdown",
   "metadata": {},
   "source": [
    "# Assignment 1: Python Practice (Marketing Analytics)\n",
    "## Your name: \n",
    "\n",
    "Submit the completed file to Canvas."
   ]
  },
  {
   "cell_type": "markdown",
   "metadata": {},
   "source": [
    "## Q1\n",
    "\n",
    "Complete the cell below by adding the following steps:\n",
    "\n",
    "1. Convert y to an integer\n",
    "2. Compute x + y\n",
    "3. Print the result"
   ]
  },
  {
   "cell_type": "code",
   "execution_count": 1,
   "metadata": {},
   "outputs": [],
   "source": [
    "x = 5\n",
    "y = '10'"
   ]
  },
  {
   "cell_type": "markdown",
   "metadata": {},
   "source": [
    "## Q2\n",
    "\n",
    "Complete the cell below to compute the boolean value of the comparison m > n \n"
   ]
  },
  {
   "cell_type": "code",
   "execution_count": 3,
   "metadata": {},
   "outputs": [],
   "source": [
    "m = 20\n",
    "n = 50"
   ]
  },
  {
   "cell_type": "markdown",
   "metadata": {},
   "source": [
    "## Q3\n",
    "\n",
    "Identify the error in the following code and provide a corrected version."
   ]
  },
  {
   "cell_type": "code",
   "execution_count": null,
   "metadata": {},
   "outputs": [],
   "source": [
    "a = 42.5\n",
    "b = \"Hello\"\n",
    "print(a + b)"
   ]
  },
  {
   "cell_type": "markdown",
   "metadata": {},
   "source": [
    "## Q4\n",
    "\n",
    "Write a function that checks if a number is greater than 50. Return True if it is, and False otherwise."
   ]
  },
  {
   "cell_type": "code",
   "execution_count": null,
   "metadata": {},
   "outputs": [],
   "source": [
    "def is_greater_than_50(my_num):\n",
    "    # finish the code here\n",
    "\n",
    "# Example usage:\n",
    "print(is_greater_than_50(75))  # True\n",
    "print(is_greater_than_50(25))  # False"
   ]
  },
  {
   "cell_type": "markdown",
   "metadata": {},
   "source": [
    "## Q5\n",
    "\n",
    "Given a list of numbers, \"numbers\", write code to print whether each number is greater than or equal to 30 using a for loop.\n",
    "- If a number is greater than or equal to 30, print the number itself and also the string \"at least 30\"\n",
    "- If a number is less than 30, print the number itself and the string \"less than 30\""
   ]
  },
  {
   "cell_type": "code",
   "execution_count": null,
   "metadata": {},
   "outputs": [],
   "source": [
    "numbers = [10, 23, 45, 60, 17]\n"
   ]
  },
  {
   "cell_type": "markdown",
   "metadata": {},
   "source": [
    "## Q6\n",
    "1. Using list comprehension, create a new list where each number from \"numbers_2\" is divided by 2.\n",
    "2. Name the new list \"numbers_new\".\n",
    "3. Print the list.\n"
   ]
  },
  {
   "cell_type": "code",
   "execution_count": null,
   "metadata": {},
   "outputs": [],
   "source": [
    "numbers_2 = [1, 2, 3, 4, 5, 6, 7, 8, 9, 10]\n"
   ]
  },
  {
   "cell_type": "markdown",
   "metadata": {},
   "source": [
    "## Q7\n",
    "\n",
    "You are given a dictionary named \"student_scores\".\n",
    "\n",
    "1. Add a new student Eva with a score of 80 to the dictionary\n",
    "2. Print the whole dictionary\n",
    "3. Print specifically Charlie's Score"
   ]
  },
  {
   "cell_type": "code",
   "execution_count": null,
   "metadata": {},
   "outputs": [],
   "source": [
    "student_scores = {\"Alice\": 85, \"Bob\": 92, \"Charlie\": 78, \"Diana\": 90}"
   ]
  },
  {
   "cell_type": "markdown",
   "metadata": {},
   "source": [
    "## Q8\n",
    "\n",
    "Write a function called \"sum_of_squares\" that takes a list of numbers as input and returns the sum of the squares of all the numbers in the list.\n",
    "For example, when running the following line of code, the output should be 14\n",
    "\n",
    "sum_of_squares([1, 2, 3])  # Output should be 14\n",
    "\n",
    "\n"
   ]
  },
  {
   "cell_type": "code",
   "execution_count": null,
   "metadata": {},
   "outputs": [],
   "source": [
    "# Define your function here\n",
    "\n",
    "\n",
    "# The following line should return 14\n",
    "sum_of_squares([1,2,3])"
   ]
  },
  {
   "cell_type": "markdown",
   "metadata": {},
   "source": [
    "## Rename the file to Lastname_Firstname_Assignment1.ipynb.\n",
    "## Download this file to your computer. Then submit the downloaded file to Canvas."
   ]
  },
  {
   "cell_type": "markdown",
   "metadata": {},
   "source": []
  }
 ],
 "metadata": {
  "kernelspec": {
   "display_name": "mktg6234",
   "language": "python",
   "name": "python3"
  },
  "language_info": {
   "codemirror_mode": {
    "name": "ipython",
    "version": 3
   },
   "file_extension": ".py",
   "mimetype": "text/x-python",
   "name": "python",
   "nbconvert_exporter": "python",
   "pygments_lexer": "ipython3",
   "version": "3.12.2"
  }
 },
 "nbformat": 4,
 "nbformat_minor": 2
}
